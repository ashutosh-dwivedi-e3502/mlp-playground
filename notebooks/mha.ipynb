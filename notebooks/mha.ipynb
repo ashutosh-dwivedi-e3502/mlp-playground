{
 "cells": [
  {
   "cell_type": "code",
   "execution_count": 1,
   "metadata": {},
   "outputs": [
    {
     "data": {
      "text/html": [
       "\n",
       "                <script type=\"application/javascript\" id=\"jupyter_black\">\n",
       "                (function() {\n",
       "                    if (window.IPython === undefined) {\n",
       "                        return\n",
       "                    }\n",
       "                    var msg = \"WARNING: it looks like you might have loaded \" +\n",
       "                        \"jupyter_black in a non-lab notebook with \" +\n",
       "                        \"`is_lab=True`. Please double check, and if \" +\n",
       "                        \"loading with `%load_ext` please review the README!\"\n",
       "                    console.log(msg)\n",
       "                    alert(msg)\n",
       "                })()\n",
       "                </script>\n",
       "                "
      ],
      "text/plain": [
       "<IPython.core.display.HTML object>"
      ]
     },
     "metadata": {},
     "output_type": "display_data"
    }
   ],
   "source": [
    "%load_ext jupyter_black\n",
    "\n",
    "import notebooks_path\n",
    "\n",
    "notebooks_path.include_packages()\n",
    "\n",
    "from jax import numpy as jnp\n",
    "from jax import random as jr\n",
    "from jax import nn\n",
    "from equinox import nn as enn\n",
    "from mha import model, dataloader, train\n",
    "\n",
    "import equinox as eqx\n",
    "import jax\n",
    "import math\n",
    "import optax"
   ]
  },
  {
   "cell_type": "code",
   "execution_count": 2,
   "metadata": {},
   "outputs": [],
   "source": [
    "model_dim = 32\n",
    "num_heads = 1\n",
    "num_layers = 1\n",
    "dropout_prob = 0.0\n",
    "lr = 5e-4\n",
    "warmup = 50"
   ]
  },
  {
   "cell_type": "code",
   "execution_count": 3,
   "metadata": {},
   "outputs": [],
   "source": [
    "(\n",
    "    train_dataloader,\n",
    "    test_dataloader,\n",
    "    val_dataloader,\n",
    ") = dataloader.get_reversed_data_loaders()"
   ]
  },
  {
   "cell_type": "code",
   "execution_count": 4,
   "metadata": {},
   "outputs": [
    {
     "name": "stdout",
     "output_type": "stream",
     "text": [
      "(2, 128, 16)\n",
      "train_dataloader.batch_size=128\n"
     ]
    }
   ],
   "source": [
    "train_row = next(iter(train_dataloader))\n",
    "print(jnp.array(train_row).shape)\n",
    "print(f\"{train_dataloader.batch_size=}\")"
   ]
  },
  {
   "cell_type": "code",
   "execution_count": 5,
   "metadata": {},
   "outputs": [
    {
     "ename": "NameError",
     "evalue": "name 'model_obj' is not defined",
     "output_type": "error",
     "traceback": [
      "\u001b[0;31m---------------------------------------------------------------------------\u001b[0m",
      "\u001b[0;31mNameError\u001b[0m                                 Traceback (most recent call last)",
      "Cell \u001b[0;32mIn[5], line 20\u001b[0m\n\u001b[1;32m      3\u001b[0m \u001b[38;5;66;03m# model_obj = model.VisionTransformer(\u001b[39;00m\n\u001b[1;32m      4\u001b[0m \u001b[38;5;66;03m#     embedding_dim=embedding_dim,\u001b[39;00m\n\u001b[1;32m      5\u001b[0m \u001b[38;5;66;03m#     channels=channels,\u001b[39;00m\n\u001b[0;32m   (...)\u001b[0m\n\u001b[1;32m     13\u001b[0m \u001b[38;5;66;03m#     key=key,\u001b[39;00m\n\u001b[1;32m     14\u001b[0m \u001b[38;5;66;03m# )\u001b[39;00m\n\u001b[1;32m     18\u001b[0m optimizer \u001b[38;5;241m=\u001b[39m optax\u001b[38;5;241m.\u001b[39madamw(learning_rate\u001b[38;5;241m=\u001b[39mlr)\n\u001b[0;32m---> 20\u001b[0m state \u001b[38;5;241m=\u001b[39m optimizer\u001b[38;5;241m.\u001b[39minit(eqx\u001b[38;5;241m.\u001b[39mfilter(\u001b[43mmodel_obj\u001b[49m, eqx\u001b[38;5;241m.\u001b[39mis_inexact_array))\n\u001b[1;32m     22\u001b[0m model_obj, state, losses \u001b[38;5;241m=\u001b[39m train\u001b[38;5;241m.\u001b[39mtrain(\n\u001b[1;32m     23\u001b[0m     model_obj, optimizer, state, train_dataloader, batch_size, num_steps, key\u001b[38;5;241m=\u001b[39mkey\n\u001b[1;32m     24\u001b[0m )\n",
      "\u001b[0;31mNameError\u001b[0m: name 'model_obj' is not defined"
     ]
    }
   ],
   "source": [
    "key = jr.PRNGKey(2003)\n",
    "\n",
    "# model_obj = model.VisionTransformer(\n",
    "#     embedding_dim=embedding_dim,\n",
    "#     channels=channels,\n",
    "#     hidden_dim=hidden_dim,\n",
    "#     num_heads=num_heads,\n",
    "#     num_layers=num_layers,\n",
    "#     dropout_rate=dropout_rate,\n",
    "#     patch_size=patch_size,\n",
    "#     num_patches=num_patches,\n",
    "#     num_classes=num_classes,\n",
    "#     key=key,\n",
    "# )\n",
    "\n",
    "model_obj = model.TransformerPredictor(\n",
    "    num_layers=5,\n",
    "    model_dim=128,\n",
    "    num_classes=9,\n",
    "    num_heads=4,\n",
    "    dropout_prob = 0.15,\n",
    "    input_dropout_prob = 0.05\n",
    ")\n",
    " \n",
    "\n",
    "optimizer = optax.adamw(learning_rate=lr)\n",
    "\n",
    "state = optimizer.init(eqx.filter(model_obj, eqx.is_inexact_array))\n",
    "\n",
    "model_obj, state, losses = train.train(\n",
    "    model_obj, optimizer, state, train_dataloader, batch_size, num_steps, key=key\n",
    ")"
   ]
  }
 ],
 "metadata": {
  "kernelspec": {
   "display_name": "Python 3",
   "language": "python",
   "name": "python3"
  },
  "language_info": {
   "codemirror_mode": {
    "name": "ipython",
    "version": 3
   },
   "file_extension": ".py",
   "mimetype": "text/x-python",
   "name": "python",
   "nbconvert_exporter": "python",
   "pygments_lexer": "ipython3",
   "version": "3.10.10"
  },
  "orig_nbformat": 4
 },
 "nbformat": 4,
 "nbformat_minor": 2
}
