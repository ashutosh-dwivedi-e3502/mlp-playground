{
 "cells": [
  {
   "cell_type": "code",
   "execution_count": 1,
   "metadata": {},
   "outputs": [
    {
     "data": {
      "text/html": [
       "\n",
       "                <script type=\"application/javascript\" id=\"jupyter_black\">\n",
       "                (function() {\n",
       "                    if (window.IPython === undefined) {\n",
       "                        return\n",
       "                    }\n",
       "                    var msg = \"WARNING: it looks like you might have loaded \" +\n",
       "                        \"jupyter_black in a non-lab notebook with \" +\n",
       "                        \"`is_lab=True`. Please double check, and if \" +\n",
       "                        \"loading with `%load_ext` please review the README!\"\n",
       "                    console.log(msg)\n",
       "                    alert(msg)\n",
       "                })()\n",
       "                </script>\n",
       "                "
      ],
      "text/plain": [
       "<IPython.core.display.HTML object>"
      ]
     },
     "metadata": {},
     "output_type": "display_data"
    }
   ],
   "source": [
    "%load_ext jupyter_black\n",
    "\n",
    "import notebooks_path\n",
    "\n",
    "notebooks_path.include_packages()\n",
    "\n",
    "from jax import numpy as jnp\n",
    "from jax import random as jr\n",
    "from jax import nn\n",
    "from equinox import nn as enn\n",
    "from mha import model, dataloader, train\n",
    "\n",
    "import equinox as eqx\n",
    "import jax\n",
    "import math\n",
    "import optax"
   ]
  },
  {
   "cell_type": "code",
   "execution_count": 2,
   "metadata": {},
   "outputs": [],
   "source": [
    "model_dim = 32\n",
    "num_heads = 1\n",
    "num_layers = 1\n",
    "dropout_prob = 0.0\n",
    "lr = 5e-4\n",
    "warmup = 50"
   ]
  },
  {
   "cell_type": "code",
   "execution_count": 3,
   "metadata": {},
   "outputs": [],
   "source": [
    "(\n",
    "    train_dataloader,\n",
    "    test_dataloader,\n",
    "    val_dataloader,\n",
    ") = dataloader.get_reversed_data_loaders()"
   ]
  },
  {
   "cell_type": "code",
   "execution_count": 4,
   "metadata": {},
   "outputs": [
    {
     "name": "stdout",
     "output_type": "stream",
     "text": [
      "[array([[8, 3, 7, ..., 2, 2, 2],\n",
      "       [8, 3, 0, ..., 1, 7, 0],\n",
      "       [9, 9, 8, ..., 9, 6, 5],\n",
      "       ...,\n",
      "       [7, 7, 5, ..., 4, 0, 0],\n",
      "       [0, 8, 9, ..., 7, 5, 5],\n",
      "       [8, 4, 1, ..., 9, 9, 1]]), array([[2, 2, 2, ..., 7, 3, 8],\n",
      "       [0, 7, 1, ..., 0, 3, 8],\n",
      "       [5, 6, 9, ..., 8, 9, 9],\n",
      "       ...,\n",
      "       [0, 0, 4, ..., 5, 7, 7],\n",
      "       [5, 5, 7, ..., 9, 8, 0],\n",
      "       [1, 9, 9, ..., 1, 4, 8]])]\n",
      "train_dataloader.batch_size=128\n"
     ]
    }
   ],
   "source": [
    "train_row = next(iter(train_dataloader))\n",
    "print(train_row)\n",
    "print(f\"{train_dataloader.batch_size=}\")"
   ]
  },
  {
   "cell_type": "code",
   "execution_count": 5,
   "metadata": {},
   "outputs": [
    {
     "ename": "NameError",
     "evalue": "name 'model_obj' is not defined",
     "output_type": "error",
     "traceback": [
      "\u001b[0;31m---------------------------------------------------------------------------\u001b[0m",
      "\u001b[0;31mNameError\u001b[0m                                 Traceback (most recent call last)",
      "\u001b[1;32m/teamspace/studios/this_studio/mlp-playground/notebooks/mha.ipynb Cell 5\u001b[0m line \u001b[0;36m1\n\u001b[1;32m      <a href='vscode-notebook-cell://vscode-01hhktfkzbn6qxegpsktv82pae.studio.lightning.ai/teamspace/studios/this_studio/mlp-playground/notebooks/mha.ipynb#W4sdnNjb2RlLXJlbW90ZQ%3D%3D?line=2'>3</a>\u001b[0m \u001b[39m# model_obj = model.VisionTransformer(\u001b[39;00m\n\u001b[1;32m      <a href='vscode-notebook-cell://vscode-01hhktfkzbn6qxegpsktv82pae.studio.lightning.ai/teamspace/studios/this_studio/mlp-playground/notebooks/mha.ipynb#W4sdnNjb2RlLXJlbW90ZQ%3D%3D?line=3'>4</a>\u001b[0m \u001b[39m#     embedding_dim=embedding_dim,\u001b[39;00m\n\u001b[1;32m      <a href='vscode-notebook-cell://vscode-01hhktfkzbn6qxegpsktv82pae.studio.lightning.ai/teamspace/studios/this_studio/mlp-playground/notebooks/mha.ipynb#W4sdnNjb2RlLXJlbW90ZQ%3D%3D?line=4'>5</a>\u001b[0m \u001b[39m#     channels=channels,\u001b[39;00m\n\u001b[0;32m   (...)\u001b[0m\n\u001b[1;32m     <a href='vscode-notebook-cell://vscode-01hhktfkzbn6qxegpsktv82pae.studio.lightning.ai/teamspace/studios/this_studio/mlp-playground/notebooks/mha.ipynb#W4sdnNjb2RlLXJlbW90ZQ%3D%3D?line=12'>13</a>\u001b[0m \u001b[39m#     key=key,\u001b[39;00m\n\u001b[1;32m     <a href='vscode-notebook-cell://vscode-01hhktfkzbn6qxegpsktv82pae.studio.lightning.ai/teamspace/studios/this_studio/mlp-playground/notebooks/mha.ipynb#W4sdnNjb2RlLXJlbW90ZQ%3D%3D?line=13'>14</a>\u001b[0m \u001b[39m# )\u001b[39;00m\n\u001b[1;32m     <a href='vscode-notebook-cell://vscode-01hhktfkzbn6qxegpsktv82pae.studio.lightning.ai/teamspace/studios/this_studio/mlp-playground/notebooks/mha.ipynb#W4sdnNjb2RlLXJlbW90ZQ%3D%3D?line=15'>16</a>\u001b[0m optimizer \u001b[39m=\u001b[39m optax\u001b[39m.\u001b[39madamw(learning_rate\u001b[39m=\u001b[39mlr)\n\u001b[0;32m---> <a href='vscode-notebook-cell://vscode-01hhktfkzbn6qxegpsktv82pae.studio.lightning.ai/teamspace/studios/this_studio/mlp-playground/notebooks/mha.ipynb#W4sdnNjb2RlLXJlbW90ZQ%3D%3D?line=17'>18</a>\u001b[0m state \u001b[39m=\u001b[39m optimizer\u001b[39m.\u001b[39minit(eqx\u001b[39m.\u001b[39mfilter(model_obj, eqx\u001b[39m.\u001b[39mis_inexact_array))\n\u001b[1;32m     <a href='vscode-notebook-cell://vscode-01hhktfkzbn6qxegpsktv82pae.studio.lightning.ai/teamspace/studios/this_studio/mlp-playground/notebooks/mha.ipynb#W4sdnNjb2RlLXJlbW90ZQ%3D%3D?line=19'>20</a>\u001b[0m model_obj, state, losses \u001b[39m=\u001b[39m train\u001b[39m.\u001b[39mtrain(\n\u001b[1;32m     <a href='vscode-notebook-cell://vscode-01hhktfkzbn6qxegpsktv82pae.studio.lightning.ai/teamspace/studios/this_studio/mlp-playground/notebooks/mha.ipynb#W4sdnNjb2RlLXJlbW90ZQ%3D%3D?line=20'>21</a>\u001b[0m     model_obj, optimizer, state, train_dataloader, batch_size, num_steps, key\u001b[39m=\u001b[39mkey\n\u001b[1;32m     <a href='vscode-notebook-cell://vscode-01hhktfkzbn6qxegpsktv82pae.studio.lightning.ai/teamspace/studios/this_studio/mlp-playground/notebooks/mha.ipynb#W4sdnNjb2RlLXJlbW90ZQ%3D%3D?line=21'>22</a>\u001b[0m )\n",
      "\u001b[0;31mNameError\u001b[0m: name 'model_obj' is not defined"
     ]
    }
   ],
   "source": [
    "key = jr.PRNGKey(2003)\n",
    "\n",
    "# model_obj = model.VisionTransformer(\n",
    "#     embedding_dim=embedding_dim,\n",
    "#     channels=channels,\n",
    "#     hidden_dim=hidden_dim,\n",
    "#     num_heads=num_heads,\n",
    "#     num_layers=num_layers,\n",
    "#     dropout_rate=dropout_rate,\n",
    "#     patch_size=patch_size,\n",
    "#     num_patches=num_patches,\n",
    "#     num_classes=num_classes,\n",
    "#     key=key,\n",
    "# )\n",
    "\n",
    "\n",
    "\n",
    "optimizer = optax.adamw(learning_rate=lr)\n",
    "\n",
    "state = optimizer.init(eqx.filter(model_obj, eqx.is_inexact_array))\n",
    "\n",
    "model_obj, state, losses = train.train(\n",
    "    model_obj, optimizer, state, train_dataloader, batch_size, num_steps, key=key\n",
    ")"
   ]
  }
 ],
 "metadata": {
  "kernelspec": {
   "display_name": "Python 3",
   "language": "python",
   "name": "python3"
  },
  "language_info": {
   "codemirror_mode": {
    "name": "ipython",
    "version": 3
   },
   "file_extension": ".py",
   "mimetype": "text/x-python",
   "name": "python",
   "nbconvert_exporter": "python",
   "pygments_lexer": "ipython3",
   "version": "3.10.10"
  },
  "orig_nbformat": 4
 },
 "nbformat": 4,
 "nbformat_minor": 2
}
