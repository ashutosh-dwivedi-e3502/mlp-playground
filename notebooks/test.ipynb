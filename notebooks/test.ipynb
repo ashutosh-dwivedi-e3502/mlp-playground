{
 "cells": [
  {
   "cell_type": "code",
   "execution_count": 1,
   "metadata": {},
   "outputs": [],
   "source": [
    "import notebooks_path\n",
    "notebooks_path.include_packages()\n",
    "import settings\n"
   ]
  },
  {
   "cell_type": "code",
   "execution_count": 13,
   "metadata": {},
   "outputs": [],
   "source": [
    "import numpy as np\n",
    "\n",
    "from jax import numpy as jnp\n",
    "from jax import random \n",
    "from torch.utils import data\n",
    "from functools import partial"
   ]
  },
  {
   "cell_type": "code",
   "execution_count": 14,
   "metadata": {},
   "outputs": [],
   "source": [
    "prng = random.PRNGKey(42)"
   ]
  },
  {
   "cell_type": "code",
   "execution_count": 15,
   "metadata": {},
   "outputs": [],
   "source": [
    "class ReverseDataset(data.Dataset):\n",
    "\n",
    "    def __init__(self, num_categories, seq_len, size, np_rng):\n",
    "        super().__init__()\n",
    "        self.num_categories = num_categories\n",
    "        self.seq_len = seq_len\n",
    "        self.size = size\n",
    "        self.np_rng = np_rng\n",
    "\n",
    "        self.data = self.np_rng.integers(self.num_categories, size=(self.size, self.seq_len))\n",
    "\n",
    "    def __len__(self):\n",
    "        return self.size\n",
    "\n",
    "    def __getitem__(self, idx):\n",
    "        inp_data = self.data[idx]\n",
    "        labels = np.flip(inp_data, axis=0)\n",
    "        return inp_data, labels"
   ]
  },
  {
   "cell_type": "code",
   "execution_count": 16,
   "metadata": {},
   "outputs": [],
   "source": [
    "# Combine batch elements (all numpy) by stacking\n",
    "def numpy_collate(batch):\n",
    "    if isinstance(batch[0], np.ndarray):\n",
    "        return np.stack(batch)\n",
    "    elif isinstance(batch[0], (tuple,list)):\n",
    "        transposed = zip(*batch)\n",
    "        return [numpy_collate(samples) for samples in transposed]\n",
    "    else:\n",
    "        return np.array(batch)\n",
    "\n",
    "dataset = partial(ReverseDataset, 10, 16)\n",
    "rev_train_loader = data.DataLoader(dataset(50000, np_rng=np.random.default_rng(42)),\n",
    "                                   batch_size=128,\n",
    "                                   shuffle=True,\n",
    "                                   drop_last=True,\n",
    "                                   collate_fn=numpy_collate)\n",
    "rev_val_loader   = data.DataLoader(dataset(1000, np_rng=np.random.default_rng(43)),\n",
    "                                   batch_size=128,\n",
    "                                   collate_fn=numpy_collate)\n",
    "rev_test_loader  = data.DataLoader(dataset(10000, np_rng=np.random.default_rng(44)),\n",
    "                                   batch_size=128,\n",
    "                                   collate_fn=numpy_collate)"
   ]
  },
  {
   "cell_type": "code",
   "execution_count": 19,
   "metadata": {},
   "outputs": [
    {
     "name": "stdout",
     "output_type": "stream",
     "text": [
      "[array([[5, 6, 4, ..., 7, 3, 2],\n",
      "       [2, 4, 6, ..., 4, 4, 0],\n",
      "       [4, 3, 5, ..., 5, 7, 9],\n",
      "       ...,\n",
      "       [1, 1, 4, ..., 9, 5, 1],\n",
      "       [7, 9, 3, ..., 8, 9, 4],\n",
      "       [9, 8, 8, ..., 6, 5, 0]]), array([[2, 3, 7, ..., 4, 6, 5],\n",
      "       [0, 4, 4, ..., 6, 4, 2],\n",
      "       [9, 7, 5, ..., 5, 3, 4],\n",
      "       ...,\n",
      "       [1, 5, 9, ..., 4, 1, 1],\n",
      "       [4, 9, 8, ..., 3, 9, 7],\n",
      "       [0, 5, 6, ..., 8, 8, 9]])]\n",
      "----------\n",
      "[array([[8, 3, 3, ..., 9, 0, 0],\n",
      "       [4, 4, 0, ..., 5, 7, 4],\n",
      "       [8, 2, 0, ..., 3, 3, 1],\n",
      "       ...,\n",
      "       [6, 4, 7, ..., 2, 5, 3],\n",
      "       [5, 0, 8, ..., 4, 0, 2],\n",
      "       [0, 3, 7, ..., 0, 3, 3]]), array([[0, 0, 9, ..., 3, 3, 8],\n",
      "       [4, 7, 5, ..., 0, 4, 4],\n",
      "       [1, 3, 3, ..., 0, 2, 8],\n",
      "       ...,\n",
      "       [3, 5, 2, ..., 7, 4, 6],\n",
      "       [2, 0, 4, ..., 8, 0, 5],\n",
      "       [3, 3, 0, ..., 7, 3, 0]])]\n",
      "----------\n",
      "[array([[9, 9, 0, ..., 8, 9, 9],\n",
      "       [0, 4, 0, ..., 0, 8, 6],\n",
      "       [7, 2, 6, ..., 5, 8, 3],\n",
      "       ...,\n",
      "       [3, 8, 8, ..., 6, 2, 9],\n",
      "       [8, 5, 0, ..., 1, 7, 8],\n",
      "       [7, 4, 8, ..., 7, 4, 2]]), array([[9, 9, 8, ..., 0, 9, 9],\n",
      "       [6, 8, 0, ..., 0, 4, 0],\n",
      "       [3, 8, 5, ..., 6, 2, 7],\n",
      "       ...,\n",
      "       [9, 2, 6, ..., 8, 8, 3],\n",
      "       [8, 7, 1, ..., 0, 5, 8],\n",
      "       [2, 4, 7, ..., 8, 4, 7]])]\n",
      "----------\n",
      "[array([[5, 3, 5, ..., 0, 6, 9],\n",
      "       [2, 0, 7, ..., 4, 2, 4],\n",
      "       [4, 5, 1, ..., 8, 8, 1],\n",
      "       ...,\n",
      "       [7, 5, 4, ..., 2, 7, 2],\n",
      "       [9, 4, 7, ..., 4, 0, 0],\n",
      "       [4, 5, 5, ..., 2, 1, 9]]), array([[9, 6, 0, ..., 5, 3, 5],\n",
      "       [4, 2, 4, ..., 7, 0, 2],\n",
      "       [1, 8, 8, ..., 1, 5, 4],\n",
      "       ...,\n",
      "       [2, 7, 2, ..., 4, 5, 7],\n",
      "       [0, 0, 4, ..., 7, 4, 9],\n",
      "       [9, 1, 2, ..., 5, 5, 4]])]\n",
      "----------\n",
      "[array([[8, 7, 0, ..., 4, 8, 3],\n",
      "       [7, 1, 2, ..., 9, 8, 2],\n",
      "       [3, 3, 1, ..., 0, 1, 6],\n",
      "       ...,\n",
      "       [9, 6, 6, ..., 6, 0, 2],\n",
      "       [3, 4, 2, ..., 1, 8, 7],\n",
      "       [4, 3, 9, ..., 4, 1, 6]]), array([[3, 8, 4, ..., 0, 7, 8],\n",
      "       [2, 8, 9, ..., 2, 1, 7],\n",
      "       [6, 1, 0, ..., 1, 3, 3],\n",
      "       ...,\n",
      "       [2, 0, 6, ..., 6, 6, 9],\n",
      "       [7, 8, 1, ..., 2, 4, 3],\n",
      "       [6, 1, 4, ..., 9, 3, 4]])]\n",
      "----------\n",
      "[array([[8, 7, 4, ..., 5, 9, 5],\n",
      "       [1, 0, 4, ..., 6, 6, 8],\n",
      "       [2, 1, 2, ..., 9, 7, 2],\n",
      "       ...,\n",
      "       [6, 7, 5, ..., 9, 9, 9],\n",
      "       [8, 1, 6, ..., 3, 8, 1],\n",
      "       [9, 7, 6, ..., 0, 8, 2]]), array([[5, 9, 5, ..., 4, 7, 8],\n",
      "       [8, 6, 6, ..., 4, 0, 1],\n",
      "       [2, 7, 9, ..., 2, 1, 2],\n",
      "       ...,\n",
      "       [9, 9, 9, ..., 5, 7, 6],\n",
      "       [1, 8, 3, ..., 6, 1, 8],\n",
      "       [2, 8, 0, ..., 6, 7, 9]])]\n",
      "----------\n",
      "[array([[6, 2, 1, ..., 9, 6, 9],\n",
      "       [6, 7, 7, ..., 8, 0, 0],\n",
      "       [6, 1, 1, ..., 7, 7, 0],\n",
      "       ...,\n",
      "       [7, 0, 4, ..., 0, 0, 1],\n",
      "       [7, 0, 6, ..., 8, 9, 0],\n",
      "       [0, 5, 1, ..., 9, 9, 1]]), array([[9, 6, 9, ..., 1, 2, 6],\n",
      "       [0, 0, 8, ..., 7, 7, 6],\n",
      "       [0, 7, 7, ..., 1, 1, 6],\n",
      "       ...,\n",
      "       [1, 0, 0, ..., 4, 0, 7],\n",
      "       [0, 9, 8, ..., 6, 0, 7],\n",
      "       [1, 9, 9, ..., 1, 5, 0]])]\n",
      "----------\n",
      "[array([[7, 2, 9, ..., 3, 2, 8],\n",
      "       [3, 8, 3, ..., 3, 8, 0],\n",
      "       [8, 2, 3, ..., 9, 1, 1],\n",
      "       ...,\n",
      "       [8, 2, 9, ..., 9, 5, 7],\n",
      "       [7, 0, 3, ..., 0, 2, 4],\n",
      "       [9, 6, 0, ..., 0, 7, 0]]), array([[8, 2, 3, ..., 9, 2, 7],\n",
      "       [0, 8, 3, ..., 3, 8, 3],\n",
      "       [1, 1, 9, ..., 3, 2, 8],\n",
      "       ...,\n",
      "       [7, 5, 9, ..., 9, 2, 8],\n",
      "       [4, 2, 0, ..., 3, 0, 7],\n",
      "       [0, 7, 0, ..., 0, 6, 9]])]\n",
      "----------\n"
     ]
    }
   ],
   "source": [
    "for i, row in enumerate(rev_val_loader):\n",
    "    print(row)\n",
    "    print('-' * 10)\n",
    "    if i > 10:\n",
    "        break"
   ]
  },
  {
   "cell_type": "code",
   "execution_count": 29,
   "metadata": {},
   "outputs": [
    {
     "name": "stdout",
     "output_type": "stream",
     "text": [
      "[7 2 9 7 5 6 0 5 5 7 6 4 8 3 2 8]\n",
      "[7 2 9 7 5 6 0 5 5 7 6 4 8 3 2 8]\n",
      "16\n"
     ]
    }
   ],
   "source": [
    "print(row[0][0])\n",
    "print(np.array(list(reversed(row[1][0]))))\n",
    "print(len(row[0][0]))"
   ]
  },
  {
   "cell_type": "code",
   "execution_count": null,
   "metadata": {},
   "outputs": [],
   "source": []
  },
  {
   "cell_type": "code",
   "execution_count": 3,
   "metadata": {},
   "outputs": [
    {
     "name": "stdout",
     "output_type": "stream",
     "text": [
      "Files already downloaded and verified\n"
     ]
    }
   ],
   "source": [
    "train_dataloader = dataloader.get_train_dataloader(8)"
   ]
  },
  {
   "cell_type": "code",
   "execution_count": 1,
   "metadata": {},
   "outputs": [],
   "source": [
    "import jax"
   ]
  },
  {
   "cell_type": "code",
   "execution_count": 10,
   "metadata": {},
   "outputs": [],
   "source": [
    "import jax\n",
    "import equinox as eqx\n",
    "from jax import numpy as jnp\n",
    "from equinox import nn"
   ]
  },
  {
   "cell_type": "code",
   "execution_count": 6,
   "metadata": {},
   "outputs": [],
   "source": [
    "norm = nn.LayerNorm(10)"
   ]
  },
  {
   "cell_type": "code",
   "execution_count": 8,
   "metadata": {},
   "outputs": [
    {
     "ename": "ValueError",
     "evalue": "`LayerNorm(shape)(x)` must satisfy the invariant `shape == x.shape`Received `shape=(10,) and `x.shape=(10, 10)`. You might need to replace `layer_norm(x)` with `jax.vmap(layer_norm)(x)`.\n\nIf this is a new error for you, it might be because this became stricter in Equinox v0.11.0. Previously all that was required is that `x.shape` ended with `shape`. However, this turned out to be a frequent source of bugs, so we made the check stricter!",
     "output_type": "error",
     "traceback": [
      "\u001b[0;31m---------------------------------------------------------------------------\u001b[0m",
      "\u001b[0;31mValueError\u001b[0m                                Traceback (most recent call last)",
      "Cell \u001b[0;32mIn[8], line 1\u001b[0m\n\u001b[0;32m----> 1\u001b[0m \u001b[43mjax\u001b[49m\u001b[38;5;241;43m.\u001b[39;49m\u001b[43mvmap\u001b[49m\u001b[43m(\u001b[49m\u001b[43mnorm\u001b[49m\u001b[43m)\u001b[49m\u001b[43m(\u001b[49m\u001b[43mjnp\u001b[49m\u001b[38;5;241;43m.\u001b[39;49m\u001b[43mones\u001b[49m\u001b[43m(\u001b[49m\u001b[43m(\u001b[49m\u001b[38;5;241;43m8\u001b[39;49m\u001b[43m,\u001b[49m\u001b[43m \u001b[49m\u001b[38;5;241;43m10\u001b[39;49m\u001b[43m,\u001b[49m\u001b[43m \u001b[49m\u001b[38;5;241;43m10\u001b[39;49m\u001b[43m)\u001b[49m\u001b[43m)\u001b[49m\u001b[43m)\u001b[49m\n",
      "    \u001b[0;31m[... skipping hidden 3 frame]\u001b[0m\n",
      "File \u001b[0;32m/home/zeus/miniconda3/envs/cloudspace/lib/python3.10/contextlib.py:79\u001b[0m, in \u001b[0;36mContextDecorator.__call__.<locals>.inner\u001b[0;34m(*args, **kwds)\u001b[0m\n\u001b[1;32m     76\u001b[0m \u001b[38;5;129m@wraps\u001b[39m(func)\n\u001b[1;32m     77\u001b[0m \u001b[38;5;28;01mdef\u001b[39;00m \u001b[38;5;21minner\u001b[39m(\u001b[38;5;241m*\u001b[39margs, \u001b[38;5;241m*\u001b[39m\u001b[38;5;241m*\u001b[39mkwds):\n\u001b[1;32m     78\u001b[0m     \u001b[38;5;28;01mwith\u001b[39;00m \u001b[38;5;28mself\u001b[39m\u001b[38;5;241m.\u001b[39m_recreate_cm():\n\u001b[0;32m---> 79\u001b[0m         \u001b[38;5;28;01mreturn\u001b[39;00m \u001b[43mfunc\u001b[49m\u001b[43m(\u001b[49m\u001b[38;5;241;43m*\u001b[39;49m\u001b[43margs\u001b[49m\u001b[43m,\u001b[49m\u001b[43m \u001b[49m\u001b[38;5;241;43m*\u001b[39;49m\u001b[38;5;241;43m*\u001b[39;49m\u001b[43mkwds\u001b[49m\u001b[43m)\u001b[49m\n",
      "File \u001b[0;32m/home/zeus/miniconda3/envs/cloudspace/lib/python3.10/site-packages/equinox/nn/_normalisation.py:132\u001b[0m, in \u001b[0;36mLayerNorm.__call__\u001b[0;34m(self, x, state, key)\u001b[0m\n\u001b[1;32m    115\u001b[0m \u001b[38;5;250m\u001b[39m\u001b[38;5;124;03m\"\"\"**Arguments:**\u001b[39;00m\n\u001b[1;32m    116\u001b[0m \n\u001b[1;32m    117\u001b[0m \u001b[38;5;124;03m- `x`: A JAX array, with the same shape as the `shape` passed to `__init__`.\u001b[39;00m\n\u001b[0;32m   (...)\u001b[0m\n\u001b[1;32m    129\u001b[0m \u001b[38;5;124;03mreturned.\u001b[39;00m\n\u001b[1;32m    130\u001b[0m \u001b[38;5;124;03m\"\"\"\u001b[39;00m\n\u001b[1;32m    131\u001b[0m \u001b[38;5;28;01mif\u001b[39;00m x\u001b[38;5;241m.\u001b[39mshape \u001b[38;5;241m!=\u001b[39m \u001b[38;5;28mself\u001b[39m\u001b[38;5;241m.\u001b[39mshape:\n\u001b[0;32m--> 132\u001b[0m     \u001b[38;5;28;01mraise\u001b[39;00m \u001b[38;5;167;01mValueError\u001b[39;00m(\n\u001b[1;32m    133\u001b[0m         \u001b[38;5;124m\"\u001b[39m\u001b[38;5;124m`LayerNorm(shape)(x)` must satisfy the invariant `shape == x.shape`\u001b[39m\u001b[38;5;124m\"\u001b[39m\n\u001b[1;32m    134\u001b[0m         \u001b[38;5;124mf\u001b[39m\u001b[38;5;124m\"\u001b[39m\u001b[38;5;124mReceived `shape=\u001b[39m\u001b[38;5;132;01m{\u001b[39;00m\u001b[38;5;28mself\u001b[39m\u001b[38;5;241m.\u001b[39mshape\u001b[38;5;132;01m}\u001b[39;00m\u001b[38;5;124m and `x.shape=\u001b[39m\u001b[38;5;132;01m{\u001b[39;00mx\u001b[38;5;241m.\u001b[39mshape\u001b[38;5;132;01m}\u001b[39;00m\u001b[38;5;124m`. You might need \u001b[39m\u001b[38;5;124m\"\u001b[39m\n\u001b[1;32m    135\u001b[0m         \u001b[38;5;124m\"\u001b[39m\u001b[38;5;124mto replace `layer_norm(x)` with `jax.vmap(layer_norm)(x)`.\u001b[39m\u001b[38;5;130;01m\\n\u001b[39;00m\u001b[38;5;124m\"\u001b[39m\n\u001b[1;32m    136\u001b[0m         \u001b[38;5;124m\"\u001b[39m\u001b[38;5;130;01m\\n\u001b[39;00m\u001b[38;5;124m\"\u001b[39m\n\u001b[1;32m    137\u001b[0m         \u001b[38;5;124m\"\u001b[39m\u001b[38;5;124mIf this is a new error for you, it might be because this became \u001b[39m\u001b[38;5;124m\"\u001b[39m\n\u001b[1;32m    138\u001b[0m         \u001b[38;5;124m\"\u001b[39m\u001b[38;5;124mstricter in Equinox v0.11.0. Previously all that was required is that \u001b[39m\u001b[38;5;124m\"\u001b[39m\n\u001b[1;32m    139\u001b[0m         \u001b[38;5;124m\"\u001b[39m\u001b[38;5;124m`x.shape` ended with `shape`. However, this turned out to be a \u001b[39m\u001b[38;5;124m\"\u001b[39m\n\u001b[1;32m    140\u001b[0m         \u001b[38;5;124m\"\u001b[39m\u001b[38;5;124mfrequent source of bugs, so we made the check stricter!\u001b[39m\u001b[38;5;124m\"\u001b[39m\n\u001b[1;32m    141\u001b[0m     )\n\u001b[1;32m    142\u001b[0m mean \u001b[38;5;241m=\u001b[39m jnp\u001b[38;5;241m.\u001b[39mmean(x, keepdims\u001b[38;5;241m=\u001b[39m\u001b[38;5;28;01mTrue\u001b[39;00m)\n\u001b[1;32m    143\u001b[0m variance \u001b[38;5;241m=\u001b[39m jnp\u001b[38;5;241m.\u001b[39mvar(x, keepdims\u001b[38;5;241m=\u001b[39m\u001b[38;5;28;01mTrue\u001b[39;00m)\n",
      "\u001b[0;31mValueError\u001b[0m: `LayerNorm(shape)(x)` must satisfy the invariant `shape == x.shape`Received `shape=(10,) and `x.shape=(10, 10)`. You might need to replace `layer_norm(x)` with `jax.vmap(layer_norm)(x)`.\n\nIf this is a new error for you, it might be because this became stricter in Equinox v0.11.0. Previously all that was required is that `x.shape` ended with `shape`. However, this turned out to be a frequent source of bugs, so we made the check stricter!"
     ]
    }
   ],
   "source": [
    "jax.vmap(norm)(jnp.ones((8, 10, 10)))"
   ]
  },
  {
   "cell_type": "code",
   "execution_count": 11,
   "metadata": {},
   "outputs": [
    {
     "data": {
      "text/plain": [
       "'0.11.2'"
      ]
     },
     "execution_count": 11,
     "metadata": {},
     "output_type": "execute_result"
    }
   ],
   "source": [
    "eqx.__version__"
   ]
  },
  {
   "cell_type": "code",
   "execution_count": null,
   "metadata": {},
   "outputs": [],
   "source": []
  }
 ],
 "metadata": {
  "kernelspec": {
   "display_name": "Python 3",
   "language": "python",
   "name": "python3"
  },
  "language_info": {
   "codemirror_mode": {
    "name": "ipython",
    "version": 3
   },
   "file_extension": ".py",
   "mimetype": "text/x-python",
   "name": "python",
   "nbconvert_exporter": "python",
   "pygments_lexer": "ipython3",
   "version": "3.10.10"
  }
 },
 "nbformat": 4,
 "nbformat_minor": 4
}
