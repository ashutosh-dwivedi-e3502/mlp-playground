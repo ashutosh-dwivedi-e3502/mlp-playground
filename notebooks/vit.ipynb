{
 "cells": [
  {
   "cell_type": "code",
   "execution_count": 1,
   "id": "af21871b",
   "metadata": {
    "execution": {
     "iopub.execute_input": "2024-01-26T11:11:22.979491Z",
     "iopub.status.busy": "2024-01-26T11:11:22.979051Z",
     "iopub.status.idle": "2024-01-26T11:11:24.406526Z",
     "shell.execute_reply": "2024-01-26T11:11:24.405900Z"
    },
    "papermill": {
     "duration": 1.433056,
     "end_time": "2024-01-26T11:11:24.408286",
     "exception": false,
     "start_time": "2024-01-26T11:11:22.975230",
     "status": "completed"
    },
    "tags": []
   },
   "outputs": [
    {
     "data": {
      "text/html": [
       "\n",
       "                <script type=\"application/javascript\" id=\"jupyter_black\">\n",
       "                (function() {\n",
       "                    if (window.IPython === undefined) {\n",
       "                        return\n",
       "                    }\n",
       "                    var msg = \"WARNING: it looks like you might have loaded \" +\n",
       "                        \"jupyter_black in a non-lab notebook with \" +\n",
       "                        \"`is_lab=True`. Please double check, and if \" +\n",
       "                        \"loading with `%load_ext` please review the README!\"\n",
       "                    console.log(msg)\n",
       "                    alert(msg)\n",
       "                })()\n",
       "                </script>\n",
       "                "
      ],
      "text/plain": [
       "<IPython.core.display.HTML object>"
      ]
     },
     "metadata": {},
     "output_type": "display_data"
    }
   ],
   "source": [
    "%load_ext jupyter_black\n",
    "\n",
    "import notebooks_path\n",
    "\n",
    "notebooks_path.include_packages()\n",
    "import jax\n",
    "import jax.numpy as jnp\n",
    "import jax.random as jr\n",
    "import optax\n",
    "import equinox as eqx\n",
    "import functools\n",
    "import tqdm\n",
    "\n",
    "from vit import dataloader, util, model, train"
   ]
  },
  {
   "cell_type": "code",
   "execution_count": 2,
   "id": "5af7d1b4",
   "metadata": {
    "execution": {
     "iopub.execute_input": "2024-01-26T11:11:24.413967Z",
     "iopub.status.busy": "2024-01-26T11:11:24.413584Z",
     "iopub.status.idle": "2024-01-26T11:11:24.423295Z",
     "shell.execute_reply": "2024-01-26T11:11:24.422676Z"
    },
    "papermill": {
     "duration": 0.014015,
     "end_time": "2024-01-26T11:11:24.424590",
     "exception": false,
     "start_time": "2024-01-26T11:11:24.410575",
     "status": "completed"
    },
    "tags": []
   },
   "outputs": [],
   "source": [
    "batch_size = 8"
   ]
  },
  {
   "cell_type": "code",
   "execution_count": 3,
   "id": "6200e768",
   "metadata": {
    "execution": {
     "iopub.execute_input": "2024-01-26T11:11:24.430572Z",
     "iopub.status.busy": "2024-01-26T11:11:24.430295Z",
     "iopub.status.idle": "2024-01-26T11:11:25.854385Z",
     "shell.execute_reply": "2024-01-26T11:11:25.853776Z"
    },
    "papermill": {
     "duration": 1.429528,
     "end_time": "2024-01-26T11:11:25.856015",
     "exception": false,
     "start_time": "2024-01-26T11:11:24.426487",
     "status": "completed"
    },
    "tags": []
   },
   "outputs": [
    {
     "name": "stdout",
     "output_type": "stream",
     "text": [
      "Files already downloaded and verified\n"
     ]
    },
    {
     "name": "stdout",
     "output_type": "stream",
     "text": [
      "Files already downloaded and verified\n"
     ]
    }
   ],
   "source": [
    "train_dataloader = dataloader.get_train_dataloader(batch_size)\n",
    "test_dataloder = dataloader.get_test_dataloader(batch_size)"
   ]
  },
  {
   "cell_type": "code",
   "execution_count": 4,
   "id": "988e4309",
   "metadata": {
    "execution": {
     "iopub.execute_input": "2024-01-26T11:11:25.861551Z",
     "iopub.status.busy": "2024-01-26T11:11:25.861230Z",
     "iopub.status.idle": "2024-01-26T11:11:25.913411Z",
     "shell.execute_reply": "2024-01-26T11:11:25.912827Z"
    },
    "papermill": {
     "duration": 0.056814,
     "end_time": "2024-01-26T11:11:25.915101",
     "exception": false,
     "start_time": "2024-01-26T11:11:25.858287",
     "status": "completed"
    },
    "tags": []
   },
   "outputs": [],
   "source": [
    "image = next(iter(test_dataloder))"
   ]
  },
  {
   "cell_type": "code",
   "execution_count": 5,
   "id": "47b3f948",
   "metadata": {
    "execution": {
     "iopub.execute_input": "2024-01-26T11:11:25.920765Z",
     "iopub.status.busy": "2024-01-26T11:11:25.920212Z",
     "iopub.status.idle": "2024-01-26T11:11:31.585986Z",
     "shell.execute_reply": "2024-01-26T11:11:31.585368Z"
    },
    "papermill": {
     "duration": 5.670186,
     "end_time": "2024-01-26T11:11:31.587462",
     "exception": false,
     "start_time": "2024-01-26T11:11:25.917276",
     "status": "completed"
    },
    "tags": []
   },
   "outputs": [
    {
     "name": "stderr",
     "output_type": "stream",
     "text": [
      "2024-01-26 11:11:31.298036: W external/xla/xla/service/gpu/nvptx_compiler.cc:698] The NVIDIA driver's CUDA version is 12.1 which is older than the ptxas CUDA version (12.3.107). Because the driver is older than the ptxas version, XLA is disabling parallel compilation, which may slow down compilation. You should update your NVIDIA driver or use the NVIDIA-provided CUDA forward compatibility packages.\n"
     ]
    },
    {
     "name": "stdout",
     "output_type": "stream",
     "text": [
      "(3, 32, 32)\n"
     ]
    }
   ],
   "source": [
    "jax_image = jnp.array(image[0][0].numpy())\n",
    "print(jax_image.shape)"
   ]
  },
  {
   "cell_type": "code",
   "execution_count": 6,
   "id": "928bd98d",
   "metadata": {
    "execution": {
     "iopub.execute_input": "2024-01-26T11:11:31.596315Z",
     "iopub.status.busy": "2024-01-26T11:11:31.596021Z",
     "iopub.status.idle": "2024-01-26T11:11:31.732796Z",
     "shell.execute_reply": "2024-01-26T11:11:31.732199Z"
    },
    "papermill": {
     "duration": 0.144542,
     "end_time": "2024-01-26T11:11:31.734454",
     "exception": false,
     "start_time": "2024-01-26T11:11:31.589912",
     "status": "completed"
    },
    "tags": []
   },
   "outputs": [],
   "source": [
    "patches = util.img_to_patches(jax_image, patch_size=16, flatten_channel=False)"
   ]
  },
  {
   "cell_type": "code",
   "execution_count": 7,
   "id": "8efde359",
   "metadata": {
    "execution": {
     "iopub.execute_input": "2024-01-26T11:11:31.740241Z",
     "iopub.status.busy": "2024-01-26T11:11:31.739927Z",
     "iopub.status.idle": "2024-01-26T11:11:31.909350Z",
     "shell.execute_reply": "2024-01-26T11:11:31.908822Z"
    },
    "papermill": {
     "duration": 0.174058,
     "end_time": "2024-01-26T11:11:31.910876",
     "exception": false,
     "start_time": "2024-01-26T11:11:31.736818",
     "status": "completed"
    },
    "tags": []
   },
   "outputs": [
    {
     "name": "stderr",
     "output_type": "stream",
     "text": [
      "WARNING:matplotlib.image:Clipping input data to the valid range for imshow with RGB data ([0..1] for floats or [0..255] for integers).\n"
     ]
    },
    {
     "name": "stderr",
     "output_type": "stream",
     "text": [
      "WARNING:matplotlib.image:Clipping input data to the valid range for imshow with RGB data ([0..1] for floats or [0..255] for integers).\n"
     ]
    },
    {
     "name": "stderr",
     "output_type": "stream",
     "text": [
      "WARNING:matplotlib.image:Clipping input data to the valid range for imshow with RGB data ([0..1] for floats or [0..255] for integers).\n"
     ]
    },
    {
     "name": "stderr",
     "output_type": "stream",
     "text": [
      "WARNING:matplotlib.image:Clipping input data to the valid range for imshow with RGB data ([0..1] for floats or [0..255] for integers).\n"
     ]
    }
   ],
   "source": [
    "util.plot_patches(patches)"
   ]
  },
  {
   "cell_type": "code",
   "execution_count": 8,
   "id": "f7e50a95",
   "metadata": {
    "execution": {
     "iopub.execute_input": "2024-01-26T11:11:31.918189Z",
     "iopub.status.busy": "2024-01-26T11:11:31.917902Z",
     "iopub.status.idle": "2024-01-26T11:11:31.923572Z",
     "shell.execute_reply": "2024-01-26T11:11:31.923078Z"
    },
    "papermill": {
     "duration": 0.01107,
     "end_time": "2024-01-26T11:11:31.925551",
     "exception": false,
     "start_time": "2024-01-26T11:11:31.914481",
     "status": "completed"
    },
    "tags": []
   },
   "outputs": [],
   "source": [
    "patches = util.img_to_patches(jax_image, patch_size=16, flatten_channel=False)"
   ]
  },
  {
   "cell_type": "code",
   "execution_count": 9,
   "id": "08986050",
   "metadata": {
    "execution": {
     "iopub.execute_input": "2024-01-26T11:11:31.937148Z",
     "iopub.status.busy": "2024-01-26T11:11:31.936883Z",
     "iopub.status.idle": "2024-01-26T11:11:31.948637Z",
     "shell.execute_reply": "2024-01-26T11:11:31.948131Z"
    },
    "papermill": {
     "duration": 0.019857,
     "end_time": "2024-01-26T11:11:31.950695",
     "exception": false,
     "start_time": "2024-01-26T11:11:31.930838",
     "status": "completed"
    },
    "tags": []
   },
   "outputs": [],
   "source": [
    "# Hyperparameters\n",
    "lr = 0.0001\n",
    "dropout_rate = 0.1\n",
    "beta1 = 0.9\n",
    "beta2 = 0.999\n",
    "patch_size = 4\n",
    "num_patches = 64\n",
    "num_steps = 100000\n",
    "image_size = (32, 32, 3)\n",
    "embedding_dim = 512\n",
    "hidden_dim = 256\n",
    "num_heads = 8\n",
    "num_layers = 6\n",
    "height, width, channels = image_size\n",
    "num_classes = 10"
   ]
  },
  {
   "cell_type": "code",
   "execution_count": 10,
   "id": "58b63900",
   "metadata": {
    "execution": {
     "iopub.execute_input": "2024-01-26T11:11:31.962385Z",
     "iopub.status.busy": "2024-01-26T11:11:31.962113Z",
     "iopub.status.idle": "2024-01-26T11:42:46.656047Z",
     "shell.execute_reply": "2024-01-26T11:42:46.655390Z"
    },
    "papermill": {
     "duration": 1874.701395,
     "end_time": "2024-01-26T11:42:46.657402",
     "exception": false,
     "start_time": "2024-01-26T11:11:31.956007",
     "status": "completed"
    },
    "tags": []
   },
   "outputs": [
    {
     "name": "stdout",
     "output_type": "stream",
     "text": [
      "Step: 0/100000, Loss: 2.3389408588409424.\n"
     ]
    },
    {
     "name": "stdout",
     "output_type": "stream",
     "text": [
      "Step: 1000/100000, Loss: 1.543238639831543.\n"
     ]
    },
    {
     "name": "stdout",
     "output_type": "stream",
     "text": [
      "Step: 2000/100000, Loss: 1.8728426694869995.\n"
     ]
    },
    {
     "name": "stdout",
     "output_type": "stream",
     "text": [
      "Step: 3000/100000, Loss: 2.5119857788085938.\n"
     ]
    },
    {
     "name": "stdout",
     "output_type": "stream",
     "text": [
      "Step: 4000/100000, Loss: 1.6348769664764404.\n"
     ]
    },
    {
     "name": "stdout",
     "output_type": "stream",
     "text": [
      "Step: 5000/100000, Loss: 1.7819663286209106.\n"
     ]
    },
    {
     "name": "stdout",
     "output_type": "stream",
     "text": [
      "Step: 6000/100000, Loss: 1.6219452619552612.\n"
     ]
    },
    {
     "name": "stdout",
     "output_type": "stream",
     "text": [
      "Step: 7000/100000, Loss: 1.36859929561615.\n"
     ]
    },
    {
     "name": "stdout",
     "output_type": "stream",
     "text": [
      "Step: 8000/100000, Loss: 1.1760574579238892.\n"
     ]
    },
    {
     "name": "stdout",
     "output_type": "stream",
     "text": [
      "Step: 9000/100000, Loss: 1.4488664865493774.\n"
     ]
    },
    {
     "name": "stdout",
     "output_type": "stream",
     "text": [
      "Step: 10000/100000, Loss: 1.802775263786316.\n"
     ]
    },
    {
     "name": "stdout",
     "output_type": "stream",
     "text": [
      "Step: 11000/100000, Loss: 1.7637073993682861.\n"
     ]
    },
    {
     "name": "stdout",
     "output_type": "stream",
     "text": [
      "Step: 12000/100000, Loss: 0.7833076119422913.\n"
     ]
    },
    {
     "name": "stdout",
     "output_type": "stream",
     "text": [
      "Step: 13000/100000, Loss: 1.1811528205871582.\n"
     ]
    },
    {
     "name": "stdout",
     "output_type": "stream",
     "text": [
      "Step: 14000/100000, Loss: 1.1001811027526855.\n"
     ]
    },
    {
     "name": "stdout",
     "output_type": "stream",
     "text": [
      "Step: 15000/100000, Loss: 0.9761098623275757.\n"
     ]
    },
    {
     "name": "stdout",
     "output_type": "stream",
     "text": [
      "Step: 16000/100000, Loss: 0.8831843137741089.\n"
     ]
    },
    {
     "name": "stdout",
     "output_type": "stream",
     "text": [
      "Step: 17000/100000, Loss: 1.0121620893478394.\n"
     ]
    },
    {
     "name": "stdout",
     "output_type": "stream",
     "text": [
      "Step: 18000/100000, Loss: 1.0539034605026245.\n"
     ]
    },
    {
     "name": "stdout",
     "output_type": "stream",
     "text": [
      "Step: 19000/100000, Loss: 1.107746958732605.\n"
     ]
    },
    {
     "name": "stdout",
     "output_type": "stream",
     "text": [
      "Step: 20000/100000, Loss: 0.9343699216842651.\n"
     ]
    },
    {
     "name": "stdout",
     "output_type": "stream",
     "text": [
      "Step: 21000/100000, Loss: 1.1023443937301636.\n"
     ]
    },
    {
     "name": "stdout",
     "output_type": "stream",
     "text": [
      "Step: 22000/100000, Loss: 1.090574026107788.\n"
     ]
    },
    {
     "name": "stdout",
     "output_type": "stream",
     "text": [
      "Step: 23000/100000, Loss: 0.7163845300674438.\n"
     ]
    },
    {
     "name": "stdout",
     "output_type": "stream",
     "text": [
      "Step: 24000/100000, Loss: 0.4474385380744934.\n"
     ]
    },
    {
     "name": "stdout",
     "output_type": "stream",
     "text": [
      "Step: 25000/100000, Loss: 0.8346785306930542.\n"
     ]
    },
    {
     "name": "stdout",
     "output_type": "stream",
     "text": [
      "Step: 26000/100000, Loss: 1.422865867614746.\n"
     ]
    },
    {
     "name": "stdout",
     "output_type": "stream",
     "text": [
      "Step: 27000/100000, Loss: 0.8890442848205566.\n"
     ]
    },
    {
     "name": "stdout",
     "output_type": "stream",
     "text": [
      "Step: 28000/100000, Loss: 1.8160719871520996.\n"
     ]
    },
    {
     "name": "stdout",
     "output_type": "stream",
     "text": [
      "Step: 29000/100000, Loss: 1.2586593627929688.\n"
     ]
    },
    {
     "name": "stdout",
     "output_type": "stream",
     "text": [
      "Step: 30000/100000, Loss: 0.8509153127670288.\n"
     ]
    },
    {
     "name": "stdout",
     "output_type": "stream",
     "text": [
      "Step: 31000/100000, Loss: 1.455114483833313.\n"
     ]
    },
    {
     "name": "stdout",
     "output_type": "stream",
     "text": [
      "Step: 32000/100000, Loss: 1.3152594566345215.\n"
     ]
    },
    {
     "name": "stdout",
     "output_type": "stream",
     "text": [
      "Step: 33000/100000, Loss: 1.8295204639434814.\n"
     ]
    },
    {
     "name": "stdout",
     "output_type": "stream",
     "text": [
      "Step: 34000/100000, Loss: 0.7769181728363037.\n"
     ]
    },
    {
     "name": "stdout",
     "output_type": "stream",
     "text": [
      "Step: 35000/100000, Loss: 1.777035117149353.\n"
     ]
    },
    {
     "name": "stdout",
     "output_type": "stream",
     "text": [
      "Step: 36000/100000, Loss: 1.3431330919265747.\n"
     ]
    },
    {
     "name": "stdout",
     "output_type": "stream",
     "text": [
      "Step: 37000/100000, Loss: 0.7172893285751343.\n"
     ]
    },
    {
     "name": "stdout",
     "output_type": "stream",
     "text": [
      "Step: 38000/100000, Loss: 0.9415724277496338.\n"
     ]
    },
    {
     "name": "stdout",
     "output_type": "stream",
     "text": [
      "Step: 39000/100000, Loss: 0.6352332234382629.\n"
     ]
    },
    {
     "name": "stdout",
     "output_type": "stream",
     "text": [
      "Step: 40000/100000, Loss: 0.9800623655319214.\n"
     ]
    },
    {
     "name": "stdout",
     "output_type": "stream",
     "text": [
      "Step: 41000/100000, Loss: 1.166698694229126.\n"
     ]
    },
    {
     "name": "stdout",
     "output_type": "stream",
     "text": [
      "Step: 42000/100000, Loss: 0.6654778122901917.\n"
     ]
    },
    {
     "name": "stdout",
     "output_type": "stream",
     "text": [
      "Step: 43000/100000, Loss: 1.3018194437026978.\n"
     ]
    },
    {
     "name": "stdout",
     "output_type": "stream",
     "text": [
      "Step: 44000/100000, Loss: 0.6915130019187927.\n"
     ]
    },
    {
     "name": "stdout",
     "output_type": "stream",
     "text": [
      "Step: 45000/100000, Loss: 1.5542782545089722.\n"
     ]
    },
    {
     "name": "stdout",
     "output_type": "stream",
     "text": [
      "Step: 46000/100000, Loss: 1.0379728078842163.\n"
     ]
    },
    {
     "name": "stdout",
     "output_type": "stream",
     "text": [
      "Step: 47000/100000, Loss: 0.9970062971115112.\n"
     ]
    },
    {
     "name": "stdout",
     "output_type": "stream",
     "text": [
      "Step: 48000/100000, Loss: 1.2466797828674316.\n"
     ]
    },
    {
     "name": "stdout",
     "output_type": "stream",
     "text": [
      "Step: 49000/100000, Loss: 0.4997975528240204.\n"
     ]
    },
    {
     "name": "stdout",
     "output_type": "stream",
     "text": [
      "Step: 50000/100000, Loss: 0.5509274005889893.\n"
     ]
    },
    {
     "name": "stdout",
     "output_type": "stream",
     "text": [
      "Step: 51000/100000, Loss: 0.8984620571136475.\n"
     ]
    },
    {
     "name": "stdout",
     "output_type": "stream",
     "text": [
      "Step: 52000/100000, Loss: 1.6150636672973633.\n"
     ]
    },
    {
     "name": "stdout",
     "output_type": "stream",
     "text": [
      "Step: 53000/100000, Loss: 0.9482676982879639.\n"
     ]
    },
    {
     "name": "stdout",
     "output_type": "stream",
     "text": [
      "Step: 54000/100000, Loss: 1.465075969696045.\n"
     ]
    },
    {
     "name": "stdout",
     "output_type": "stream",
     "text": [
      "Step: 55000/100000, Loss: 1.289531946182251.\n"
     ]
    },
    {
     "name": "stdout",
     "output_type": "stream",
     "text": [
      "Step: 56000/100000, Loss: 0.7533168196678162.\n"
     ]
    },
    {
     "name": "stdout",
     "output_type": "stream",
     "text": [
      "Step: 57000/100000, Loss: 0.9306734800338745.\n"
     ]
    },
    {
     "name": "stdout",
     "output_type": "stream",
     "text": [
      "Step: 58000/100000, Loss: 0.7913195490837097.\n"
     ]
    },
    {
     "name": "stdout",
     "output_type": "stream",
     "text": [
      "Step: 59000/100000, Loss: 1.4608873128890991.\n"
     ]
    },
    {
     "name": "stdout",
     "output_type": "stream",
     "text": [
      "Step: 60000/100000, Loss: 0.9099599123001099.\n"
     ]
    },
    {
     "name": "stdout",
     "output_type": "stream",
     "text": [
      "Step: 61000/100000, Loss: 0.8783217072486877.\n"
     ]
    },
    {
     "name": "stdout",
     "output_type": "stream",
     "text": [
      "Step: 62000/100000, Loss: 0.90946364402771.\n"
     ]
    },
    {
     "name": "stdout",
     "output_type": "stream",
     "text": [
      "Step: 63000/100000, Loss: 0.8942668437957764.\n"
     ]
    },
    {
     "name": "stdout",
     "output_type": "stream",
     "text": [
      "Step: 64000/100000, Loss: 0.8570293188095093.\n"
     ]
    },
    {
     "name": "stdout",
     "output_type": "stream",
     "text": [
      "Step: 65000/100000, Loss: 1.262819766998291.\n"
     ]
    },
    {
     "name": "stdout",
     "output_type": "stream",
     "text": [
      "Step: 66000/100000, Loss: 0.8843784332275391.\n"
     ]
    },
    {
     "name": "stdout",
     "output_type": "stream",
     "text": [
      "Step: 67000/100000, Loss: 1.5559430122375488.\n"
     ]
    },
    {
     "name": "stdout",
     "output_type": "stream",
     "text": [
      "Step: 68000/100000, Loss: 0.700046181678772.\n"
     ]
    },
    {
     "name": "stdout",
     "output_type": "stream",
     "text": [
      "Step: 69000/100000, Loss: 0.8254873752593994.\n"
     ]
    },
    {
     "name": "stdout",
     "output_type": "stream",
     "text": [
      "Step: 70000/100000, Loss: 1.2056628465652466.\n"
     ]
    },
    {
     "name": "stdout",
     "output_type": "stream",
     "text": [
      "Step: 71000/100000, Loss: 0.7090159058570862.\n"
     ]
    },
    {
     "name": "stdout",
     "output_type": "stream",
     "text": [
      "Step: 72000/100000, Loss: 0.901639997959137.\n"
     ]
    },
    {
     "name": "stdout",
     "output_type": "stream",
     "text": [
      "Step: 73000/100000, Loss: 0.9501442313194275.\n"
     ]
    },
    {
     "name": "stdout",
     "output_type": "stream",
     "text": [
      "Step: 74000/100000, Loss: 1.6348774433135986.\n"
     ]
    },
    {
     "name": "stdout",
     "output_type": "stream",
     "text": [
      "Step: 75000/100000, Loss: 1.447645664215088.\n"
     ]
    },
    {
     "name": "stdout",
     "output_type": "stream",
     "text": [
      "Step: 76000/100000, Loss: 0.8848025798797607.\n"
     ]
    },
    {
     "name": "stdout",
     "output_type": "stream",
     "text": [
      "Step: 77000/100000, Loss: 0.9465682506561279.\n"
     ]
    },
    {
     "name": "stdout",
     "output_type": "stream",
     "text": [
      "Step: 78000/100000, Loss: 0.9715703725814819.\n"
     ]
    },
    {
     "name": "stdout",
     "output_type": "stream",
     "text": [
      "Step: 79000/100000, Loss: 0.44195184111595154.\n"
     ]
    },
    {
     "name": "stdout",
     "output_type": "stream",
     "text": [
      "Step: 80000/100000, Loss: 0.6943346261978149.\n"
     ]
    },
    {
     "name": "stdout",
     "output_type": "stream",
     "text": [
      "Step: 81000/100000, Loss: 0.4777899384498596.\n"
     ]
    },
    {
     "name": "stdout",
     "output_type": "stream",
     "text": [
      "Step: 82000/100000, Loss: 0.3369857668876648.\n"
     ]
    },
    {
     "name": "stdout",
     "output_type": "stream",
     "text": [
      "Step: 83000/100000, Loss: 1.2335765361785889.\n"
     ]
    },
    {
     "name": "stdout",
     "output_type": "stream",
     "text": [
      "Step: 84000/100000, Loss: 1.2700443267822266.\n"
     ]
    },
    {
     "name": "stdout",
     "output_type": "stream",
     "text": [
      "Step: 85000/100000, Loss: 0.24581551551818848.\n"
     ]
    },
    {
     "name": "stdout",
     "output_type": "stream",
     "text": [
      "Step: 86000/100000, Loss: 1.2456016540527344.\n"
     ]
    },
    {
     "name": "stdout",
     "output_type": "stream",
     "text": [
      "Step: 87000/100000, Loss: 0.6545699834823608.\n"
     ]
    },
    {
     "name": "stdout",
     "output_type": "stream",
     "text": [
      "Step: 88000/100000, Loss: 1.6082074642181396.\n"
     ]
    },
    {
     "name": "stdout",
     "output_type": "stream",
     "text": [
      "Step: 89000/100000, Loss: 0.5465951561927795.\n"
     ]
    },
    {
     "name": "stdout",
     "output_type": "stream",
     "text": [
      "Step: 90000/100000, Loss: 0.5897265672683716.\n"
     ]
    },
    {
     "name": "stdout",
     "output_type": "stream",
     "text": [
      "Step: 91000/100000, Loss: 0.6407677531242371.\n"
     ]
    },
    {
     "name": "stdout",
     "output_type": "stream",
     "text": [
      "Step: 92000/100000, Loss: 0.3814378082752228.\n"
     ]
    },
    {
     "name": "stdout",
     "output_type": "stream",
     "text": [
      "Step: 93000/100000, Loss: 0.45877283811569214.\n"
     ]
    },
    {
     "name": "stdout",
     "output_type": "stream",
     "text": [
      "Step: 94000/100000, Loss: 0.9836975932121277.\n"
     ]
    },
    {
     "name": "stdout",
     "output_type": "stream",
     "text": [
      "Step: 95000/100000, Loss: 0.40443313121795654.\n"
     ]
    },
    {
     "name": "stdout",
     "output_type": "stream",
     "text": [
      "Step: 96000/100000, Loss: 0.5107324123382568.\n"
     ]
    },
    {
     "name": "stdout",
     "output_type": "stream",
     "text": [
      "Step: 97000/100000, Loss: 0.8225865364074707.\n"
     ]
    },
    {
     "name": "stdout",
     "output_type": "stream",
     "text": [
      "Step: 98000/100000, Loss: 0.234283447265625.\n"
     ]
    },
    {
     "name": "stdout",
     "output_type": "stream",
     "text": [
      "Step: 99000/100000, Loss: 0.6071439385414124.\n"
     ]
    },
    {
     "name": "stdout",
     "output_type": "stream",
     "text": [
      "Step: 99999/100000, Loss: 0.4844452440738678.\n"
     ]
    }
   ],
   "source": [
    "key = jr.PRNGKey(2003)\n",
    "\n",
    "model_obj = model.VisionTransformer(\n",
    "    embedding_dim=embedding_dim,\n",
    "    channels=channels,\n",
    "    hidden_dim=hidden_dim,\n",
    "    num_heads=num_heads,\n",
    "    num_layers=num_layers,\n",
    "    dropout_rate=dropout_rate,\n",
    "    patch_size=patch_size,\n",
    "    num_patches=num_patches,\n",
    "    num_classes=num_classes,\n",
    "    key=key,\n",
    ")\n",
    "\n",
    "optimizer = optax.adamw(\n",
    "    learning_rate=lr,\n",
    "    b1=beta1,\n",
    "    b2=beta2,\n",
    ")\n",
    "\n",
    "state = optimizer.init(eqx.filter(model_obj, eqx.is_inexact_array))\n",
    "\n",
    "model_obj, state, losses = train.train(\n",
    "    model_obj, optimizer, state, train_dataloader, batch_size, num_steps, key=key\n",
    ")"
   ]
  },
  {
   "cell_type": "code",
   "execution_count": 11,
   "id": "b459b334",
   "metadata": {
    "execution": {
     "iopub.execute_input": "2024-01-26T11:42:46.672001Z",
     "iopub.status.busy": "2024-01-26T11:42:46.671681Z",
     "iopub.status.idle": "2024-01-26T11:48:29.271107Z",
     "shell.execute_reply": "2024-01-26T11:48:29.270441Z"
    },
    "papermill": {
     "duration": 342.614624,
     "end_time": "2024-01-26T11:48:29.278809",
     "exception": false,
     "start_time": "2024-01-26T11:42:46.664185",
     "status": "completed"
    },
    "tags": []
   },
   "outputs": [
    {
     "name": "stdout",
     "output_type": "stream",
     "text": [
      "Accuracy: 81.89000701904297%\n"
     ]
    }
   ],
   "source": [
    "accuracies = []\n",
    "\n",
    "for batch in range(len(test_dataloder.dataset) // batch_size):\n",
    "    images, labels = next(iter(test_dataloder))\n",
    "\n",
    "    logits = jax.vmap(functools.partial(model_obj, enable_dropout=False))(\n",
    "        images.numpy(), key=jax.random.split(key, num=batch_size)\n",
    "    )\n",
    "\n",
    "    predictions = jnp.argmax(logits, axis=-1)\n",
    "\n",
    "    accuracy = jnp.mean(predictions == labels.numpy())\n",
    "\n",
    "    accuracies.append(accuracy)\n",
    "\n",
    "print(f\"Accuracy: {jnp.sum(jnp.array(accuracies)) / len(accuracies) * 100}%\")"
   ]
  },
  {
   "cell_type": "code",
   "execution_count": null,
   "id": "3c421a63",
   "metadata": {
    "papermill": {
     "duration": 0.006651,
     "end_time": "2024-01-26T11:48:29.292219",
     "exception": false,
     "start_time": "2024-01-26T11:48:29.285568",
     "status": "completed"
    },
    "tags": []
   },
   "outputs": [],
   "source": []
  }
 ],
 "metadata": {
  "kernelspec": {
   "display_name": "Python 3",
   "language": "python",
   "name": "python3"
  },
  "language_info": {
   "codemirror_mode": {
    "name": "ipython",
    "version": 3
   },
   "file_extension": ".py",
   "mimetype": "text/x-python",
   "name": "python",
   "nbconvert_exporter": "python",
   "pygments_lexer": "ipython3",
   "version": "3.10.10"
  },
  "papermill": {
   "default_parameters": {},
   "duration": 2233.09793,
   "end_time": "2024-01-26T11:48:32.143745",
   "environment_variables": {},
   "exception": null,
   "input_path": "vit.ipynb",
   "output_path": "vit_out.ipynb",
   "parameters": {},
   "start_time": "2024-01-26T11:11:19.045815",
   "version": "2.5.0"
  }
 },
 "nbformat": 4,
 "nbformat_minor": 5
}
