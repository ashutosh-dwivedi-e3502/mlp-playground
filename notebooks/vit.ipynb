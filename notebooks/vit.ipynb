{
 "cells": [
  {
   "cell_type": "code",
   "execution_count": 1,
   "id": "af21871b",
   "metadata": {
    "execution": {
     "iopub.execute_input": "2024-01-26T11:11:22.979491Z",
     "iopub.status.busy": "2024-01-26T11:11:22.979051Z",
     "iopub.status.idle": "2024-01-26T11:11:24.406526Z",
     "shell.execute_reply": "2024-01-26T11:11:24.405900Z"
    },
    "papermill": {
     "duration": 1.433056,
     "end_time": "2024-01-26T11:11:24.408286",
     "exception": false,
     "start_time": "2024-01-26T11:11:22.975230",
     "status": "completed"
    },
    "tags": []
   },
   "outputs": [
    {
     "data": {
      "text/html": [
       "\n",
       "                <script type=\"application/javascript\" id=\"jupyter_black\">\n",
       "                (function() {\n",
       "                    if (window.IPython === undefined) {\n",
       "                        return\n",
       "                    }\n",
       "                    var msg = \"WARNING: it looks like you might have loaded \" +\n",
       "                        \"jupyter_black in a non-lab notebook with \" +\n",
       "                        \"`is_lab=True`. Please double check, and if \" +\n",
       "                        \"loading with `%load_ext` please review the README!\"\n",
       "                    console.log(msg)\n",
       "                    alert(msg)\n",
       "                })()\n",
       "                </script>\n",
       "                "
      ],
      "text/plain": [
       "<IPython.core.display.HTML object>"
      ]
     },
     "metadata": {},
     "output_type": "display_data"
    }
   ],
   "source": [
    "%load_ext jupyter_black\n",
    "\n",
    "import notebooks_path\n",
    "\n",
    "notebooks_path.include_packages()\n",
    "import jax\n",
    "import jax.numpy as jnp\n",
    "import jax.random as jr\n",
    "import optax\n",
    "import equinox as eqx\n",
    "import functools\n",
    "import tqdm\n",
    "\n",
    "from vit import dataloader, util, model, train"
   ]
  },
  {
   "cell_type": "code",
   "execution_count": 2,
   "id": "5af7d1b4",
   "metadata": {
    "execution": {
     "iopub.execute_input": "2024-01-26T11:11:24.413967Z",
     "iopub.status.busy": "2024-01-26T11:11:24.413584Z",
     "iopub.status.idle": "2024-01-26T11:11:24.423295Z",
     "shell.execute_reply": "2024-01-26T11:11:24.422676Z"
    },
    "papermill": {
     "duration": 0.014015,
     "end_time": "2024-01-26T11:11:24.424590",
     "exception": false,
     "start_time": "2024-01-26T11:11:24.410575",
     "status": "completed"
    },
    "tags": []
   },
   "outputs": [],
   "source": [
    "batch_size = 8"
   ]
  },
  {
   "cell_type": "code",
   "execution_count": 3,
   "id": "6200e768",
   "metadata": {
    "execution": {
     "iopub.execute_input": "2024-01-26T11:11:24.430572Z",
     "iopub.status.busy": "2024-01-26T11:11:24.430295Z",
     "iopub.status.idle": "2024-01-26T11:11:25.854385Z",
     "shell.execute_reply": "2024-01-26T11:11:25.853776Z"
    },
    "papermill": {
     "duration": 1.429528,
     "end_time": "2024-01-26T11:11:25.856015",
     "exception": false,
     "start_time": "2024-01-26T11:11:24.426487",
     "status": "completed"
    },
    "tags": []
   },
   "outputs": [
    {
     "name": "stdout",
     "output_type": "stream",
     "text": [
      "Files already downloaded and verified\n",
      "Files already downloaded and verified\n"
     ]
    }
   ],
   "source": [
    "train_dataloader = dataloader.get_train_dataloader(batch_size)\n",
    "test_dataloder = dataloader.get_test_dataloader(batch_size)"
   ]
  },
  {
   "cell_type": "code",
   "execution_count": 4,
   "id": "988e4309",
   "metadata": {
    "execution": {
     "iopub.execute_input": "2024-01-26T11:11:25.861551Z",
     "iopub.status.busy": "2024-01-26T11:11:25.861230Z",
     "iopub.status.idle": "2024-01-26T11:11:25.913411Z",
     "shell.execute_reply": "2024-01-26T11:11:25.912827Z"
    },
    "papermill": {
     "duration": 0.056814,
     "end_time": "2024-01-26T11:11:25.915101",
     "exception": false,
     "start_time": "2024-01-26T11:11:25.858287",
     "status": "completed"
    },
    "tags": []
   },
   "outputs": [],
   "source": [
    "image = next(iter(test_dataloder))"
   ]
  },
  {
   "cell_type": "code",
   "execution_count": 5,
   "id": "47b3f948",
   "metadata": {
    "execution": {
     "iopub.execute_input": "2024-01-26T11:11:25.920765Z",
     "iopub.status.busy": "2024-01-26T11:11:25.920212Z",
     "iopub.status.idle": "2024-01-26T11:11:31.585986Z",
     "shell.execute_reply": "2024-01-26T11:11:31.585368Z"
    },
    "papermill": {
     "duration": 5.670186,
     "end_time": "2024-01-26T11:11:31.587462",
     "exception": false,
     "start_time": "2024-01-26T11:11:25.917276",
     "status": "completed"
    },
    "tags": []
   },
   "outputs": [
    {
     "name": "stdout",
     "output_type": "stream",
     "text": [
      "(3, 32, 32)\n"
     ]
    }
   ],
   "source": [
    "jax_image = jnp.array(image[0][0].numpy())\n",
    "print(jax_image.shape)"
   ]
  },
  {
   "cell_type": "code",
   "execution_count": 6,
   "id": "928bd98d",
   "metadata": {
    "execution": {
     "iopub.execute_input": "2024-01-26T11:11:31.596315Z",
     "iopub.status.busy": "2024-01-26T11:11:31.596021Z",
     "iopub.status.idle": "2024-01-26T11:11:31.732796Z",
     "shell.execute_reply": "2024-01-26T11:11:31.732199Z"
    },
    "papermill": {
     "duration": 0.144542,
     "end_time": "2024-01-26T11:11:31.734454",
     "exception": false,
     "start_time": "2024-01-26T11:11:31.589912",
     "status": "completed"
    },
    "tags": []
   },
   "outputs": [],
   "source": [
    "patches = util.img_to_patches(jax_image, patch_size=16, flatten_channel=False)"
   ]
  },
  {
   "cell_type": "code",
   "execution_count": 7,
   "id": "8efde359",
   "metadata": {
    "execution": {
     "iopub.execute_input": "2024-01-26T11:11:31.740241Z",
     "iopub.status.busy": "2024-01-26T11:11:31.739927Z",
     "iopub.status.idle": "2024-01-26T11:11:31.909350Z",
     "shell.execute_reply": "2024-01-26T11:11:31.908822Z"
    },
    "papermill": {
     "duration": 0.174058,
     "end_time": "2024-01-26T11:11:31.910876",
     "exception": false,
     "start_time": "2024-01-26T11:11:31.736818",
     "status": "completed"
    },
    "tags": []
   },
   "outputs": [
    {
     "name": "stderr",
     "output_type": "stream",
     "text": [
      "WARNING:matplotlib.image:Clipping input data to the valid range for imshow with RGB data ([0..1] for floats or [0..255] for integers).\n",
      "WARNING:matplotlib.image:Clipping input data to the valid range for imshow with RGB data ([0..1] for floats or [0..255] for integers).\n",
      "WARNING:matplotlib.image:Clipping input data to the valid range for imshow with RGB data ([0..1] for floats or [0..255] for integers).\n",
      "WARNING:matplotlib.image:Clipping input data to the valid range for imshow with RGB data ([0..1] for floats or [0..255] for integers).\n"
     ]
    },
    {
     "data": {
      "image/png": "[encoded data removed]",
      "text/plain": [
       "<Figure size 2000x500 with 4 Axes>"
      ]
     },
     "metadata": {},
     "output_type": "display_data"
    }
   ],
   "source": [
    "util.plot_patches(patches)"
   ]
  },
  {
   "cell_type": "code",
   "execution_count": 8,
   "id": "f7e50a95",
   "metadata": {
    "execution": {
     "iopub.execute_input": "2024-01-26T11:11:31.918189Z",
     "iopub.status.busy": "2024-01-26T11:11:31.917902Z",
     "iopub.status.idle": "2024-01-26T11:11:31.923572Z",
     "shell.execute_reply": "2024-01-26T11:11:31.923078Z"
    },
    "papermill": {
     "duration": 0.01107,
     "end_time": "2024-01-26T11:11:31.925551",
     "exception": false,
     "start_time": "2024-01-26T11:11:31.914481",
     "status": "completed"
    },
    "tags": []
   },
   "outputs": [],
   "source": [
    "patches = util.img_to_patches(jax_image, patch_size=16, flatten_channel=False)"
   ]
  },
  {
   "cell_type": "code",
   "execution_count": 9,
   "id": "08986050",
   "metadata": {
    "execution": {
     "iopub.execute_input": "2024-01-26T11:11:31.937148Z",
     "iopub.status.busy": "2024-01-26T11:11:31.936883Z",
     "iopub.status.idle": "2024-01-26T11:11:31.948637Z",
     "shell.execute_reply": "2024-01-26T11:11:31.948131Z"
    },
    "papermill": {
     "duration": 0.019857,
     "end_time": "2024-01-26T11:11:31.950695",
     "exception": false,
     "start_time": "2024-01-26T11:11:31.930838",
     "status": "completed"
    },
    "tags": []
   },
   "outputs": [],
   "source": [
    "# Hyperparameters\n",
    "lr = 0.0001\n",
    "dropout_rate = 0.1\n",
    "beta1 = 0.9\n",
    "beta2 = 0.999\n",
    "patch_size = 4\n",
    "num_patches = 64\n",
    "num_steps = 100000\n",
    "image_size = (32, 32, 3)\n",
    "embedding_dim = 512\n",
    "hidden_dim = 256\n",
    "num_heads = 8\n",
    "num_layers = 6\n",
    "height, width, channels = image_size\n",
    "num_classes = 10"
   ]
  },
  {
   "cell_type": "code",
   "execution_count": 10,
   "id": "58b63900",
   "metadata": {
    "execution": {
     "iopub.execute_input": "2024-01-26T11:11:31.962385Z",
     "iopub.status.busy": "2024-01-26T11:11:31.962113Z",
     "iopub.status.idle": "2024-01-26T11:42:46.656047Z",
     "shell.execute_reply": "2024-01-26T11:42:46.655390Z"
    },
    "papermill": {
     "duration": 1874.701395,
     "end_time": "2024-01-26T11:42:46.657402",
     "exception": false,
     "start_time": "2024-01-26T11:11:31.956007",
     "status": "completed"
    },
    "tags": []
   },
   "outputs": [
    {
     "name": "stdout",
     "output_type": "stream",
     "text": [
      "> \u001b[0;32m/teamspace/studios/this_studio/mlp-playground/playground/vit/model.py\u001b[0m(83)\u001b[0;36m__call__\u001b[0;34m()\u001b[0m\n",
      "\u001b[0;32m     81 \u001b[0;31m\u001b[0;34m\u001b[0m\u001b[0m\n",
      "\u001b[0m\u001b[0;32m     82 \u001b[0;31m        \u001b[0;32mimport\u001b[0m \u001b[0mpdb\u001b[0m\u001b[0;34m;\u001b[0m \u001b[0mpdb\u001b[0m\u001b[0;34m.\u001b[0m\u001b[0mset_trace\u001b[0m\u001b[0;34m(\u001b[0m\u001b[0;34m)\u001b[0m\u001b[0;34m\u001b[0m\u001b[0;34m\u001b[0m\u001b[0m\n",
      "\u001b[0m\u001b[0;32m---> 83 \u001b[0;31m        \u001b[0minput_x\u001b[0m \u001b[0;34m=\u001b[0m \u001b[0mjax\u001b[0m\u001b[0;34m.\u001b[0m\u001b[0mvmap\u001b[0m\u001b[0;34m(\u001b[0m\u001b[0mself\u001b[0m\u001b[0;34m.\u001b[0m\u001b[0mlayer_norm2\u001b[0m\u001b[0;34m)\u001b[0m\u001b[0;34m(\u001b[0m\u001b[0mx\u001b[0m\u001b[0;34m)\u001b[0m\u001b[0;34m\u001b[0m\u001b[0;34m\u001b[0m\u001b[0m\n",
      "\u001b[0m\u001b[0;32m     84 \u001b[0;31m        \u001b[0minput_x\u001b[0m \u001b[0;34m=\u001b[0m \u001b[0mjax\u001b[0m\u001b[0;34m.\u001b[0m\u001b[0mvmap\u001b[0m\u001b[0;34m(\u001b[0m\u001b[0mself\u001b[0m\u001b[0;34m.\u001b[0m\u001b[0mlinear1\u001b[0m\u001b[0;34m)\u001b[0m\u001b[0;34m(\u001b[0m\u001b[0minput_x\u001b[0m\u001b[0;34m)\u001b[0m\u001b[0;34m\u001b[0m\u001b[0;34m\u001b[0m\u001b[0m\n",
      "\u001b[0m\u001b[0;32m     85 \u001b[0;31m        \u001b[0minput_x\u001b[0m \u001b[0;34m=\u001b[0m \u001b[0mjax\u001b[0m\u001b[0;34m.\u001b[0m\u001b[0mnn\u001b[0m\u001b[0;34m.\u001b[0m\u001b[0mgelu\u001b[0m\u001b[0;34m(\u001b[0m\u001b[0minput_x\u001b[0m\u001b[0;34m)\u001b[0m\u001b[0;34m\u001b[0m\u001b[0;34m\u001b[0m\u001b[0m\n",
      "\u001b[0m\n",
      "(65, 512)\n",
      "(65, 512)\n",
      "(65, 512)\n",
      "(65, 512)\n",
      "(65, 512)\n",
      "(65, 512)\n",
      "(65, 512)\n",
      "(65, 512)\n",
      "(65, 512)\n",
      "(65, 512)\n",
      "(65, 512)\n",
      "(65, 512)\n",
      "(65, 512)\n",
      "(65, 512)\n",
      "(65, 512)\n",
      "(65, 512)\n",
      "> \u001b[0;32m/teamspace/studios/this_studio/mlp-playground/playground/vit/model.py\u001b[0m(83)\u001b[0;36m__call__\u001b[0;34m()\u001b[0m\n",
      "\u001b[0;32m     81 \u001b[0;31m\u001b[0;34m\u001b[0m\u001b[0m\n",
      "\u001b[0m\u001b[0;32m     82 \u001b[0;31m        \u001b[0;32mimport\u001b[0m \u001b[0mpdb\u001b[0m\u001b[0;34m;\u001b[0m \u001b[0mpdb\u001b[0m\u001b[0;34m.\u001b[0m\u001b[0mset_trace\u001b[0m\u001b[0;34m(\u001b[0m\u001b[0;34m)\u001b[0m\u001b[0;34m\u001b[0m\u001b[0;34m\u001b[0m\u001b[0m\n",
      "\u001b[0m\u001b[0;32m---> 83 \u001b[0;31m        \u001b[0minput_x\u001b[0m \u001b[0;34m=\u001b[0m \u001b[0mjax\u001b[0m\u001b[0;34m.\u001b[0m\u001b[0mvmap\u001b[0m\u001b[0;34m(\u001b[0m\u001b[0mself\u001b[0m\u001b[0;34m.\u001b[0m\u001b[0mlayer_norm2\u001b[0m\u001b[0;34m)\u001b[0m\u001b[0;34m(\u001b[0m\u001b[0mx\u001b[0m\u001b[0;34m)\u001b[0m\u001b[0;34m\u001b[0m\u001b[0;34m\u001b[0m\u001b[0m\n",
      "\u001b[0m\u001b[0;32m     84 \u001b[0;31m        \u001b[0minput_x\u001b[0m \u001b[0;34m=\u001b[0m \u001b[0mjax\u001b[0m\u001b[0;34m.\u001b[0m\u001b[0mvmap\u001b[0m\u001b[0;34m(\u001b[0m\u001b[0mself\u001b[0m\u001b[0;34m.\u001b[0m\u001b[0mlinear1\u001b[0m\u001b[0;34m)\u001b[0m\u001b[0;34m(\u001b[0m\u001b[0minput_x\u001b[0m\u001b[0;34m)\u001b[0m\u001b[0;34m\u001b[0m\u001b[0;34m\u001b[0m\u001b[0m\n",
      "\u001b[0m\u001b[0;32m     85 \u001b[0;31m        \u001b[0minput_x\u001b[0m \u001b[0;34m=\u001b[0m \u001b[0mjax\u001b[0m\u001b[0;34m.\u001b[0m\u001b[0mnn\u001b[0m\u001b[0;34m.\u001b[0m\u001b[0mgelu\u001b[0m\u001b[0;34m(\u001b[0m\u001b[0minput_x\u001b[0m\u001b[0;34m)\u001b[0m\u001b[0;34m\u001b[0m\u001b[0;34m\u001b[0m\u001b[0m\n",
      "\u001b[0m\n",
      "> \u001b[0;32m/teamspace/studios/this_studio/mlp-playground/playground/vit/model.py\u001b[0m(83)\u001b[0;36m__call__\u001b[0;34m()\u001b[0m\n",
      "\u001b[0;32m     81 \u001b[0;31m\u001b[0;34m\u001b[0m\u001b[0m\n",
      "\u001b[0m\u001b[0;32m     82 \u001b[0;31m        \u001b[0;32mimport\u001b[0m \u001b[0mpdb\u001b[0m\u001b[0;34m;\u001b[0m \u001b[0mpdb\u001b[0m\u001b[0;34m.\u001b[0m\u001b[0mset_trace\u001b[0m\u001b[0;34m(\u001b[0m\u001b[0;34m)\u001b[0m\u001b[0;34m\u001b[0m\u001b[0;34m\u001b[0m\u001b[0m\n",
      "\u001b[0m\u001b[0;32m---> 83 \u001b[0;31m        \u001b[0minput_x\u001b[0m \u001b[0;34m=\u001b[0m \u001b[0mjax\u001b[0m\u001b[0;34m.\u001b[0m\u001b[0mvmap\u001b[0m\u001b[0;34m(\u001b[0m\u001b[0mself\u001b[0m\u001b[0;34m.\u001b[0m\u001b[0mlayer_norm2\u001b[0m\u001b[0;34m)\u001b[0m\u001b[0;34m(\u001b[0m\u001b[0mx\u001b[0m\u001b[0;34m)\u001b[0m\u001b[0;34m\u001b[0m\u001b[0;34m\u001b[0m\u001b[0m\n",
      "\u001b[0m\u001b[0;32m     84 \u001b[0;31m        \u001b[0minput_x\u001b[0m \u001b[0;34m=\u001b[0m \u001b[0mjax\u001b[0m\u001b[0;34m.\u001b[0m\u001b[0mvmap\u001b[0m\u001b[0;34m(\u001b[0m\u001b[0mself\u001b[0m\u001b[0;34m.\u001b[0m\u001b[0mlinear1\u001b[0m\u001b[0;34m)\u001b[0m\u001b[0;34m(\u001b[0m\u001b[0minput_x\u001b[0m\u001b[0;34m)\u001b[0m\u001b[0;34m\u001b[0m\u001b[0;34m\u001b[0m\u001b[0m\n",
      "\u001b[0m\u001b[0;32m     85 \u001b[0;31m        \u001b[0minput_x\u001b[0m \u001b[0;34m=\u001b[0m \u001b[0mjax\u001b[0m\u001b[0;34m.\u001b[0m\u001b[0mnn\u001b[0m\u001b[0;34m.\u001b[0m\u001b[0mgelu\u001b[0m\u001b[0;34m(\u001b[0m\u001b[0minput_x\u001b[0m\u001b[0;34m)\u001b[0m\u001b[0;34m\u001b[0m\u001b[0;34m\u001b[0m\u001b[0m\n",
      "\u001b[0m\n",
      "> \u001b[0;32m/teamspace/studios/this_studio/mlp-playground/playground/vit/model.py\u001b[0m(83)\u001b[0;36m__call__\u001b[0;34m()\u001b[0m\n",
      "\u001b[0;32m     81 \u001b[0;31m\u001b[0;34m\u001b[0m\u001b[0m\n",
      "\u001b[0m\u001b[0;32m     82 \u001b[0;31m        \u001b[0;32mimport\u001b[0m \u001b[0mpdb\u001b[0m\u001b[0;34m;\u001b[0m \u001b[0mpdb\u001b[0m\u001b[0;34m.\u001b[0m\u001b[0mset_trace\u001b[0m\u001b[0;34m(\u001b[0m\u001b[0;34m)\u001b[0m\u001b[0;34m\u001b[0m\u001b[0;34m\u001b[0m\u001b[0m\n",
      "\u001b[0m\u001b[0;32m---> 83 \u001b[0;31m        \u001b[0minput_x\u001b[0m \u001b[0;34m=\u001b[0m \u001b[0mjax\u001b[0m\u001b[0;34m.\u001b[0m\u001b[0mvmap\u001b[0m\u001b[0;34m(\u001b[0m\u001b[0mself\u001b[0m\u001b[0;34m.\u001b[0m\u001b[0mlayer_norm2\u001b[0m\u001b[0;34m)\u001b[0m\u001b[0;34m(\u001b[0m\u001b[0mx\u001b[0m\u001b[0;34m)\u001b[0m\u001b[0;34m\u001b[0m\u001b[0;34m\u001b[0m\u001b[0m\n",
      "\u001b[0m\u001b[0;32m     84 \u001b[0;31m        \u001b[0minput_x\u001b[0m \u001b[0;34m=\u001b[0m \u001b[0mjax\u001b[0m\u001b[0;34m.\u001b[0m\u001b[0mvmap\u001b[0m\u001b[0;34m(\u001b[0m\u001b[0mself\u001b[0m\u001b[0;34m.\u001b[0m\u001b[0mlinear1\u001b[0m\u001b[0;34m)\u001b[0m\u001b[0;34m(\u001b[0m\u001b[0minput_x\u001b[0m\u001b[0;34m)\u001b[0m\u001b[0;34m\u001b[0m\u001b[0;34m\u001b[0m\u001b[0m\n",
      "\u001b[0m\u001b[0;32m     85 \u001b[0;31m        \u001b[0minput_x\u001b[0m \u001b[0;34m=\u001b[0m \u001b[0mjax\u001b[0m\u001b[0;34m.\u001b[0m\u001b[0mnn\u001b[0m\u001b[0;34m.\u001b[0m\u001b[0mgelu\u001b[0m\u001b[0;34m(\u001b[0m\u001b[0minput_x\u001b[0m\u001b[0;34m)\u001b[0m\u001b[0;34m\u001b[0m\u001b[0;34m\u001b[0m\u001b[0m\n",
      "\u001b[0m\n",
      "> \u001b[0;32m/teamspace/studios/this_studio/mlp-playground/playground/vit/model.py\u001b[0m(83)\u001b[0;36m__call__\u001b[0;34m()\u001b[0m\n",
      "\u001b[0;32m     81 \u001b[0;31m\u001b[0;34m\u001b[0m\u001b[0m\n",
      "\u001b[0m\u001b[0;32m     82 \u001b[0;31m        \u001b[0;32mimport\u001b[0m \u001b[0mpdb\u001b[0m\u001b[0;34m;\u001b[0m \u001b[0mpdb\u001b[0m\u001b[0;34m.\u001b[0m\u001b[0mset_trace\u001b[0m\u001b[0;34m(\u001b[0m\u001b[0;34m)\u001b[0m\u001b[0;34m\u001b[0m\u001b[0;34m\u001b[0m\u001b[0m\n",
      "\u001b[0m\u001b[0;32m---> 83 \u001b[0;31m        \u001b[0minput_x\u001b[0m \u001b[0;34m=\u001b[0m \u001b[0mjax\u001b[0m\u001b[0;34m.\u001b[0m\u001b[0mvmap\u001b[0m\u001b[0;34m(\u001b[0m\u001b[0mself\u001b[0m\u001b[0;34m.\u001b[0m\u001b[0mlayer_norm2\u001b[0m\u001b[0;34m)\u001b[0m\u001b[0;34m(\u001b[0m\u001b[0mx\u001b[0m\u001b[0;34m)\u001b[0m\u001b[0;34m\u001b[0m\u001b[0;34m\u001b[0m\u001b[0m\n",
      "\u001b[0m\u001b[0;32m     84 \u001b[0;31m        \u001b[0minput_x\u001b[0m \u001b[0;34m=\u001b[0m \u001b[0mjax\u001b[0m\u001b[0;34m.\u001b[0m\u001b[0mvmap\u001b[0m\u001b[0;34m(\u001b[0m\u001b[0mself\u001b[0m\u001b[0;34m.\u001b[0m\u001b[0mlinear1\u001b[0m\u001b[0;34m)\u001b[0m\u001b[0;34m(\u001b[0m\u001b[0minput_x\u001b[0m\u001b[0;34m)\u001b[0m\u001b[0;34m\u001b[0m\u001b[0;34m\u001b[0m\u001b[0m\n",
      "\u001b[0m\u001b[0;32m     85 \u001b[0;31m        \u001b[0minput_x\u001b[0m \u001b[0;34m=\u001b[0m \u001b[0mjax\u001b[0m\u001b[0;34m.\u001b[0m\u001b[0mnn\u001b[0m\u001b[0;34m.\u001b[0m\u001b[0mgelu\u001b[0m\u001b[0;34m(\u001b[0m\u001b[0minput_x\u001b[0m\u001b[0;34m)\u001b[0m\u001b[0;34m\u001b[0m\u001b[0;34m\u001b[0m\u001b[0m\n",
      "\u001b[0m\n"
     ]
    }
   ],
   "source": [
    "key = jr.PRNGKey(2003)\n",
    "\n",
    "model_obj = model.VisionTransformer(\n",
    "    embedding_dim=embedding_dim,\n",
    "    channels=channels,\n",
    "    hidden_dim=hidden_dim,\n",
    "    num_heads=num_heads,\n",
    "    num_layers=num_layers,\n",
    "    dropout_rate=dropout_rate,\n",
    "    patch_size=patch_size,\n",
    "    num_patches=num_patches,\n",
    "    num_classes=num_classes,\n",
    "    key=key,\n",
    ")\n",
    "\n",
    "optimizer = optax.adamw(\n",
    "    learning_rate=lr,\n",
    "    b1=beta1,\n",
    "    b2=beta2,\n",
    ")\n",
    "\n",
    "state = optimizer.init(eqx.filter(model_obj, eqx.is_inexact_array))\n",
    "\n",
    "model_obj, state, losses = train.train(\n",
    "    model_obj, optimizer, state, train_dataloader, batch_size, num_steps, key=key\n",
    ")"
   ]
  },
  {
   "cell_type": "code",
   "execution_count": null,
   "id": "b459b334",
   "metadata": {
    "execution": {
     "iopub.execute_input": "2024-01-26T11:42:46.672001Z",
     "iopub.status.busy": "2024-01-26T11:42:46.671681Z",
     "iopub.status.idle": "2024-01-26T11:48:29.271107Z",
     "shell.execute_reply": "2024-01-26T11:48:29.270441Z"
    },
    "papermill": {
     "duration": 342.614624,
     "end_time": "2024-01-26T11:48:29.278809",
     "exception": false,
     "start_time": "2024-01-26T11:42:46.664185",
     "status": "completed"
    },
    "tags": []
   },
   "outputs": [
    {
     "name": "stdout",
     "output_type": "stream",
     "text": [
      "Accuracy: 81.89000701904297%\n"
     ]
    }
   ],
   "source": [
    "accuracies = []\n",
    "\n",
    "for batch in range(len(test_dataloder.dataset) // batch_size):\n",
    "    images, labels = next(iter(test_dataloder))\n",
    "\n",
    "    logits = jax.vmap(functools.partial(model_obj, enable_dropout=False))(\n",
    "        images.numpy(), key=jax.random.split(key, num=batch_size)\n",
    "    )\n",
    "\n",
    "    predictions = jnp.argmax(logits, axis=-1)\n",
    "\n",
    "    accuracy = jnp.mean(predictions == labels.numpy())\n",
    "\n",
    "    accuracies.append(accuracy)\n",
    "\n",
    "print(f\"Accuracy: {jnp.sum(jnp.array(accuracies)) / len(accuracies) * 100}%\")"
   ]
  },
  {
   "cell_type": "code",
   "execution_count": null,
   "id": "3c421a63",
   "metadata": {
    "papermill": {
     "duration": 0.006651,
     "end_time": "2024-01-26T11:48:29.292219",
     "exception": false,
     "start_time": "2024-01-26T11:48:29.285568",
     "status": "completed"
    },
    "tags": []
   },
   "outputs": [],
   "source": []
  }
 ],
 "metadata": {
  "kernelspec": {
   "display_name": "Python 3",
   "language": "python",
   "name": "python3"
  },
  "language_info": {
   "codemirror_mode": {
    "name": "ipython",
    "version": 3
   },
   "file_extension": ".py",
   "mimetype": "text/x-python",
   "name": "python",
   "nbconvert_exporter": "python",
   "pygments_lexer": "ipython3",
   "version": "3.10.10"
  },
  "papermill": {
   "default_parameters": {},
   "duration": 2233.09793,
   "end_time": "2024-01-26T11:48:32.143745",
   "environment_variables": {},
   "exception": null,
   "input_path": "vit.ipynb",
   "output_path": "vit_out.ipynb",
   "parameters": {},
   "start_time": "2024-01-26T11:11:19.045815",
   "version": "2.5.0"
  }
 },
 "nbformat": 4,
 "nbformat_minor": 5
}
